{
 "cells": [
  {
   "metadata": {},
   "cell_type": "markdown",
   "source": "# 贝叶斯分类器实践\n",
   "id": "467f7c79b2e060b2"
  },
  {
   "metadata": {
    "ExecuteTime": {
     "end_time": "2025-04-02T11:27:14.641113Z",
     "start_time": "2025-04-02T11:27:12.697441Z"
    }
   },
   "cell_type": "code",
   "source": [
    "import numpy as np\n",
    "import pandas as pd\n",
    "from collections import defaultdict\n",
    "\n",
    "from fontTools.subset import subset\n",
    "from scipy.stats import norm\n",
    "from sklearn import datasets\n",
    "from sklearn.model_selection import train_test_split\n",
    "from sklearn.metrics import accuracy_score, confusion_matrix, classification_report\n",
    "from sklearn.preprocessing import StandardScaler, LabelEncoder"
   ],
   "id": "1dec8c4b00f9d84d",
   "outputs": [],
   "execution_count": 1
  },
  {
   "metadata": {
    "ExecuteTime": {
     "end_time": "2025-04-02T11:27:14.671916Z",
     "start_time": "2025-04-02T11:27:14.649463Z"
    }
   },
   "cell_type": "code",
   "source": [
    "class NaiveBayesClassifier:\n",
    "    def __init__(self, laplace=True):\n",
    "        self.class_priors = {}  # 先验概率 P(c)\n",
    "        self.likelihood = {}    # 似然 P(x|c)\n",
    "        self.feature_types = {} # 特征类型，连续或离散\n",
    "        self.laplace = laplace\n",
    "\n",
    "    def fit(self, X: pd.DataFrame, y: pd.Series):\n",
    "        self.classes = np.unique(y)\n",
    "        self.feature_types = {col: 'categorical' if X[col].dtype == 'object' else 'continuous' for col in X.columns}\n",
    "        # P(c)\n",
    "        class_counts = y.value_counts().to_dict()\n",
    "        total_samples = len(y)\n",
    "        self.class_priors = {c: class_counts[c] / total_samples for c in self.classes}\n",
    "        # P(x|c)\n",
    "        self.likelihood = {c: {} for c in self.classes}\n",
    "        for c in self.classes:\n",
    "            subset = X[y == c]\n",
    "            for col in X.columns:\n",
    "                if self.feature_types[col] == 'categorical':\n",
    "                    # 计算 P(x=value|c)\n",
    "                    value_counts = subset[col].value_counts().to_dict()\n",
    "                    total_count = len(subset) + (len(X[col].unique()) if self.laplace else 0)\n",
    "                    self.likelihood[c][col] = {val : (value_counts.get(val, 0) + (1 if self.laplace else 0)) / total_count for val in X[col].unique()}\n",
    "                else:\n",
    "                    # 计算正态分布参数\n",
    "                    mean = subset[col].mean()\n",
    "                    std = subset[col].std() if subset[col].std() > 0 else 1e-6\n",
    "                    self.likelihood[c][col] = (mean, std)\n",
    "        return self\n",
    "\n",
    "    def predict(self, X: pd.DataFrame):\n",
    "        y_pred = []\n",
    "        for _, row in X.iterrows():\n",
    "            class_probs = {}\n",
    "            for c in self.classes:\n",
    "                # P(c|x)\n",
    "                prob = np.log(self.class_priors[c])\n",
    "                for col in X.columns:\n",
    "                    if self.feature_types[col] == 'categorical':\n",
    "                        prob += np.log(self.likelihood[c][col].get(row[col], 1e-6))\n",
    "                    else:\n",
    "                        mean, std = self.likelihood[c][col]\n",
    "                        prob += np.log(norm.pdf(row[col], loc=mean, scale=std))\n",
    "                class_probs[c] = prob\n",
    "            y_pred.append(max(class_probs, key=class_probs.get))\n",
    "        return np.array(y_pred)"
   ],
   "id": "2c5e0c84b2d352fb",
   "outputs": [],
   "execution_count": 2
  },
  {
   "metadata": {
    "ExecuteTime": {
     "end_time": "2025-04-02T11:27:15.043244Z",
     "start_time": "2025-04-02T11:27:15.030932Z"
    }
   },
   "cell_type": "code",
   "source": [
    "def load_dataset(name: str):\n",
    "    \"\"\"\n",
    "    根据名称加载不同的数据集\n",
    "    :param name: 数据集名称 ['watermelon', 'iris', 'adult', 'spam', 'wine']\n",
    "    :return: X, y (DataFrame, Series)\n",
    "    \"\"\"\n",
    "    if name == 'watermelon': # 经典西瓜数据集\n",
    "        data = pd.DataFrame([\n",
    "            ['青绿', '蜷缩', '浊响', '清晰', '好瓜'],\n",
    "            ['乌黑', '蜷缩', '沉闷', '清晰', '好瓜'],\n",
    "            ['乌黑', '蜷缩', '浊响', '清晰', '好瓜'],\n",
    "            ['青绿', '蜷缩', '沉闷', '清晰', '好瓜'],\n",
    "            ['浅白', '蜷缩', '浊响', '清晰', '好瓜'],\n",
    "            ['青绿', '稍蜷', '浊响', '清晰', '好瓜'],\n",
    "            ['乌黑', '稍蜷', '浊响', '稍糊', '好瓜'],\n",
    "            ['乌黑', '稍蜷', '浊响', '清晰', '好瓜'],\n",
    "            ['乌黑', '稍蜷', '沉闷', '稍糊', '坏瓜'],\n",
    "            ['青绿', '硬挺', '清脆', '清晰', '坏瓜'],\n",
    "            ['浅白', '硬挺', '清脆', '模糊', '坏瓜']\n",
    "        ], columns=['色泽', '根蒂', '敲声', '纹理', '好瓜'])\n",
    "        X, y = data.iloc[:, :-1], data.iloc[:, -1]\n",
    "    elif name == 'iris': # 鸢尾花数据集\n",
    "        iris = datasets.load_iris()\n",
    "        X = pd.DataFrame(iris.data, columns=iris.feature_names)\n",
    "        y = pd.Series(iris.target).astype(str)\n",
    "    elif name == 'wine': # 葡萄酒质量数据集\n",
    "        wine = datasets.load_wine()\n",
    "        X = pd.DataFrame(wine.data, columns=wine.feature_names)\n",
    "        y = pd.Series(wine.target).astype(str)\n",
    "    elif name == 'adult': # Adult (收入预测)\n",
    "        url = \"https://archive.ics.uci.edu/ml/machine-learning-databases/adult/adult.data\"\n",
    "        columns = ['age', 'workclass', 'fnlwgt', 'education', 'education-num', 'marital-status', 'occupation', 'relationship', 'race', 'sex', 'capital-gain', 'capital-loss', 'hours-per-week', 'native-country', 'income']\n",
    "        data = pd.read_csv(url, names=columns, na_values=\" ?\", skipinitialspace=True)\n",
    "        data.dropna(inplace=True)\n",
    "        X, y = data.iloc[:, :-1], data.iloc[:, -1]\n",
    "    elif name == 'spam': # Spam (垃圾邮件分类)\n",
    "        from sklearn.datasets import fetch_openml\n",
    "        spam = fetch_openml(name=\"spambase\", version=1)\n",
    "        X = pd.DataFrame(spam.data)\n",
    "        y = spam.target.astype(str)\n",
    "    else:\n",
    "        raise ValueError(\"未找到数据集，请选择 ['watermelon', 'iris', 'adult', 'spam', 'wine']\")\n",
    "    return X, y"
   ],
   "id": "efd3bb975f643040",
   "outputs": [],
   "execution_count": 3
  },
  {
   "metadata": {
    "ExecuteTime": {
     "end_time": "2025-04-02T11:27:15.074157Z",
     "start_time": "2025-04-02T11:27:15.060842Z"
    }
   },
   "cell_type": "code",
   "source": [
    "def train_test_naive(name: str, laplace: bool):\n",
    "    X, y = load_dataset(name)\n",
    "    if X.select_dtypes(include=['object']).shape[1] > 0:\n",
    "        X = X.apply(LabelEncoder().fit_transform)   # 对离散特征进行编码\n",
    "    X_train, X_test, y_train, y_test = train_test_split(X, y, test_size=0.3, random_state=42)\n",
    "\n",
    "    nb = NaiveBayesClassifier(laplace=laplace).fit(X_train, y_train)\n",
    "    y_pred = nb.predict(X_test)\n",
    "    print(f\"=== {name} 数据集 ===\")\n",
    "    print(f\"分类准确率: {accuracy_score(y_test, y_pred):.4f}\")\n",
    "    print(\"混淆矩阵:\\n\", confusion_matrix(y_test, y_pred))\n",
    "    print(\"分类报告:\\n\", classification_report(y_test, y_pred))"
   ],
   "id": "e3aa8a331596dd2",
   "outputs": [],
   "execution_count": 4
  },
  {
   "metadata": {
    "ExecuteTime": {
     "end_time": "2025-04-02T11:27:15.244867Z",
     "start_time": "2025-04-02T11:27:15.091889Z"
    }
   },
   "cell_type": "code",
   "source": "train_test_naive('wine', True)",
   "id": "b3afcb1896119e3c",
   "outputs": [
    {
     "name": "stdout",
     "output_type": "stream",
     "text": [
      "=== wine 数据集 ===\n",
      "分类准确率: 1.0000\n",
      "混淆矩阵:\n",
      " [[19  0  0]\n",
      " [ 0 21  0]\n",
      " [ 0  0 14]]\n",
      "分类报告:\n",
      "               precision    recall  f1-score   support\n",
      "\n",
      "           0       1.00      1.00      1.00        19\n",
      "           1       1.00      1.00      1.00        21\n",
      "           2       1.00      1.00      1.00        14\n",
      "\n",
      "    accuracy                           1.00        54\n",
      "   macro avg       1.00      1.00      1.00        54\n",
      "weighted avg       1.00      1.00      1.00        54\n",
      "\n"
     ]
    }
   ],
   "execution_count": 5
  },
  {
   "metadata": {
    "ExecuteTime": {
     "end_time": "2025-04-02T11:27:25.362607Z",
     "start_time": "2025-04-02T11:27:15.263281Z"
    }
   },
   "cell_type": "code",
   "source": "train_test_naive('spam', True)",
   "id": "41300ee964b45696",
   "outputs": [
    {
     "name": "stderr",
     "output_type": "stream",
     "text": [
      "C:\\Users\\Ignorant\\AppData\\Local\\Temp\\ipykernel_50244\\901010323.py:44: RuntimeWarning: divide by zero encountered in log\n",
      "  prob += np.log(norm.pdf(row[col], loc=mean, scale=std))\n"
     ]
    },
    {
     "name": "stdout",
     "output_type": "stream",
     "text": [
      "=== spam 数据集 ===\n",
      "分类准确率: 0.8146\n",
      "混淆矩阵:\n",
      " [[583 221]\n",
      " [ 35 542]]\n",
      "分类报告:\n",
      "               precision    recall  f1-score   support\n",
      "\n",
      "           0       0.94      0.73      0.82       804\n",
      "           1       0.71      0.94      0.81       577\n",
      "\n",
      "    accuracy                           0.81      1381\n",
      "   macro avg       0.83      0.83      0.81      1381\n",
      "weighted avg       0.85      0.81      0.82      1381\n",
      "\n"
     ]
    }
   ],
   "execution_count": 6
  },
  {
   "metadata": {
    "ExecuteTime": {
     "end_time": "2025-04-02T11:27:25.409765Z",
     "start_time": "2025-04-02T11:27:25.392569Z"
    }
   },
   "cell_type": "code",
   "source": [
    "class AODEClassifier:\n",
    "    def __init__(self, m=30):\n",
    "        self.m = m\n",
    "        self.feature_types = {}\n",
    "        self.p_ci = {}  # P(c, x_i)\n",
    "        self.p_jci = {} # P(x_j|c, x_i)\n",
    "\n",
    "    def fit(self, X, y):\n",
    "        self.classes = np.unique(y)\n",
    "        self.ns = [len(np.unique(X[col])) for col in X.columns]\n",
    "        self.lengths = []\n",
    "        self.feature_types = {col: 'categorical' if X[col].dtype == 'object' else 'continuous' for col in X.columns}\n",
    "        self.p_jci = {c1: {c2 : 0 for c2 in self.classes} for c1 in self.classes}\n",
    "        self.p_ci = {c: 0 for c in self.classes}\n",
    "        for i, c in enumerate(self.classes):\n",
    "            subset = X[y == c]\n",
    "            self.lengths.append(len(subset))\n",
    "            self.p_ci[c] = (len(subset) + 1) / (len(X) + len(self.classes) * self.ns[i])\n",
    "            for j, cc in enumerate(self.classes):\n",
    "                subsubset = subset[y == cc]\n",
    "                self.p_jci[cc][c] = (len(subsubset) + 1) / (len(subset) + self.ns[j])\n",
    "        return self\n",
    "\n",
    "    def predict(self, X):\n",
    "        y_pred = []\n",
    "        for _, row in X.iterrows():\n",
    "            class_probs = {}\n",
    "            for i, c in enumerate(self.classes):\n",
    "                if self.lengths[i] < self.m:\n",
    "                    continue\n",
    "                prob = np.log(self.p_ci[c])\n",
    "                for j, cc in enumerate(self.classes):\n",
    "                    prob += np.log(self.p_jci[cc][c])\n",
    "                class_probs[c] = prob\n",
    "            y_pred.append(max(class_probs, key=class_probs.get))\n",
    "        return np.array(y_pred)"
   ],
   "id": "58bf11fe81a37df8",
   "outputs": [],
   "execution_count": 7
  },
  {
   "metadata": {
    "ExecuteTime": {
     "end_time": "2025-04-02T11:27:25.441288Z",
     "start_time": "2025-04-02T11:27:25.427859Z"
    }
   },
   "cell_type": "code",
   "source": [
    "def train_test_AODE(name: str):\n",
    "    X, y = load_dataset(name)\n",
    "    if X.select_dtypes(include=['object']).shape[1] > 0:\n",
    "        X = X.apply(LabelEncoder().fit_transform)   # 对离散特征进行编码\n",
    "    X_train, X_test, y_train, y_test = train_test_split(X, y, test_size=0.3, random_state=42)\n",
    "\n",
    "    nb = AODEClassifier(m=1).fit(X_train, y_train)\n",
    "    y_pred = nb.predict(X_test)\n",
    "    print(f\"=== {name} 数据集 ===\")\n",
    "    print(f\"分类准确率: {accuracy_score(y_test, y_pred):.4f}\")\n",
    "    print(\"混淆矩阵:\\n\", confusion_matrix(y_test, y_pred))\n",
    "    print(\"分类报告:\\n\", classification_report(y_test, y_pred))"
   ],
   "id": "e71375a7d7155d3e",
   "outputs": [],
   "execution_count": 8
  },
  {
   "metadata": {
    "ExecuteTime": {
     "end_time": "2025-04-02T11:27:25.488556Z",
     "start_time": "2025-04-02T11:27:25.459349Z"
    }
   },
   "cell_type": "code",
   "source": "train_test_AODE('watermelon')",
   "id": "83482197fc303a02",
   "outputs": [
    {
     "name": "stdout",
     "output_type": "stream",
     "text": [
      "=== watermelon 数据集 ===\n",
      "分类准确率: 0.5000\n",
      "混淆矩阵:\n",
      " [[0 2]\n",
      " [0 2]]\n",
      "分类报告:\n",
      "               precision    recall  f1-score   support\n",
      "\n",
      "          坏瓜       0.00      0.00      0.00         2\n",
      "          好瓜       0.50      1.00      0.67         2\n",
      "\n",
      "    accuracy                           0.50         4\n",
      "   macro avg       0.25      0.50      0.33         4\n",
      "weighted avg       0.25      0.50      0.33         4\n",
      "\n"
     ]
    },
    {
     "name": "stderr",
     "output_type": "stream",
     "text": [
      "C:\\Users\\Ignorant\\AppData\\Local\\Temp\\ipykernel_50244\\3456253335.py:18: UserWarning: Boolean Series key will be reindexed to match DataFrame index.\n",
      "  subsubset = subset[y == cc]\n",
      "C:\\Users\\Ignorant\\AppData\\Local\\Temp\\ipykernel_50244\\3456253335.py:18: UserWarning: Boolean Series key will be reindexed to match DataFrame index.\n",
      "  subsubset = subset[y == cc]\n",
      "C:\\Users\\Ignorant\\AppData\\Local\\Temp\\ipykernel_50244\\3456253335.py:18: UserWarning: Boolean Series key will be reindexed to match DataFrame index.\n",
      "  subsubset = subset[y == cc]\n",
      "C:\\Users\\Ignorant\\AppData\\Local\\Temp\\ipykernel_50244\\3456253335.py:18: UserWarning: Boolean Series key will be reindexed to match DataFrame index.\n",
      "  subsubset = subset[y == cc]\n",
      "D:\\codes\\Python_exercise\\venv\\lib\\site-packages\\sklearn\\metrics\\_classification.py:1531: UndefinedMetricWarning: Precision is ill-defined and being set to 0.0 in labels with no predicted samples. Use `zero_division` parameter to control this behavior.\n",
      "  _warn_prf(average, modifier, f\"{metric.capitalize()} is\", len(result))\n",
      "D:\\codes\\Python_exercise\\venv\\lib\\site-packages\\sklearn\\metrics\\_classification.py:1531: UndefinedMetricWarning: Precision is ill-defined and being set to 0.0 in labels with no predicted samples. Use `zero_division` parameter to control this behavior.\n",
      "  _warn_prf(average, modifier, f\"{metric.capitalize()} is\", len(result))\n",
      "D:\\codes\\Python_exercise\\venv\\lib\\site-packages\\sklearn\\metrics\\_classification.py:1531: UndefinedMetricWarning: Precision is ill-defined and being set to 0.0 in labels with no predicted samples. Use `zero_division` parameter to control this behavior.\n",
      "  _warn_prf(average, modifier, f\"{metric.capitalize()} is\", len(result))\n"
     ]
    }
   ],
   "execution_count": 9
  },
  {
   "metadata": {
    "ExecuteTime": {
     "end_time": "2025-04-02T11:27:25.613446Z",
     "start_time": "2025-04-02T11:27:25.589363Z"
    }
   },
   "cell_type": "code",
   "source": "train_test_naive('watermelon', True)",
   "id": "68c3e71b21d8c106",
   "outputs": [
    {
     "name": "stdout",
     "output_type": "stream",
     "text": [
      "=== watermelon 数据集 ===\n",
      "分类准确率: 0.5000\n",
      "混淆矩阵:\n",
      " [[0 2]\n",
      " [0 2]]\n",
      "分类报告:\n",
      "               precision    recall  f1-score   support\n",
      "\n",
      "          坏瓜       0.00      0.00      0.00         2\n",
      "          好瓜       0.50      1.00      0.67         2\n",
      "\n",
      "    accuracy                           0.50         4\n",
      "   macro avg       0.25      0.50      0.33         4\n",
      "weighted avg       0.25      0.50      0.33         4\n",
      "\n"
     ]
    },
    {
     "name": "stderr",
     "output_type": "stream",
     "text": [
      "C:\\Users\\Ignorant\\AppData\\Local\\Temp\\ipykernel_50244\\901010323.py:44: RuntimeWarning: divide by zero encountered in log\n",
      "  prob += np.log(norm.pdf(row[col], loc=mean, scale=std))\n",
      "D:\\codes\\Python_exercise\\venv\\lib\\site-packages\\sklearn\\metrics\\_classification.py:1531: UndefinedMetricWarning: Precision is ill-defined and being set to 0.0 in labels with no predicted samples. Use `zero_division` parameter to control this behavior.\n",
      "  _warn_prf(average, modifier, f\"{metric.capitalize()} is\", len(result))\n",
      "D:\\codes\\Python_exercise\\venv\\lib\\site-packages\\sklearn\\metrics\\_classification.py:1531: UndefinedMetricWarning: Precision is ill-defined and being set to 0.0 in labels with no predicted samples. Use `zero_division` parameter to control this behavior.\n",
      "  _warn_prf(average, modifier, f\"{metric.capitalize()} is\", len(result))\n",
      "D:\\codes\\Python_exercise\\venv\\lib\\site-packages\\sklearn\\metrics\\_classification.py:1531: UndefinedMetricWarning: Precision is ill-defined and being set to 0.0 in labels with no predicted samples. Use `zero_division` parameter to control this behavior.\n",
      "  _warn_prf(average, modifier, f\"{metric.capitalize()} is\", len(result))\n"
     ]
    }
   ],
   "execution_count": 10
  },
  {
   "metadata": {
    "ExecuteTime": {
     "end_time": "2025-04-02T11:27:25.736038Z",
     "start_time": "2025-04-02T11:27:25.721207Z"
    }
   },
   "cell_type": "code",
   "source": "",
   "id": "c59708d741142779",
   "outputs": [],
   "execution_count": null
  }
 ],
 "metadata": {
  "kernelspec": {
   "display_name": "Python 3",
   "language": "python",
   "name": "python3"
  },
  "language_info": {
   "codemirror_mode": {
    "name": "ipython",
    "version": 2
   },
   "file_extension": ".py",
   "mimetype": "text/x-python",
   "name": "python",
   "nbconvert_exporter": "python",
   "pygments_lexer": "ipython2",
   "version": "2.7.6"
  }
 },
 "nbformat": 4,
 "nbformat_minor": 5
}
