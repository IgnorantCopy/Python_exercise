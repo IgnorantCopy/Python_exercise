{
 "cells": [
  {
   "metadata": {},
   "cell_type": "markdown",
   "source": "# 高斯混合模型实践",
   "id": "c86f2fb247feef9e"
  },
  {
   "metadata": {
    "ExecuteTime": {
     "end_time": "2025-03-18T06:57:01.844411Z",
     "start_time": "2025-03-18T06:56:58.984933Z"
    }
   },
   "cell_type": "code",
   "source": [
    "import numpy as np\n",
    "import matplotlib.pyplot as plt\n",
    "from sklearn.datasets import make_blobs\n",
    "from sklearn.mixture import GaussianMixture"
   ],
   "id": "d610c1f157ccadfb",
   "outputs": [],
   "execution_count": 1
  },
  {
   "metadata": {
    "ExecuteTime": {
     "end_time": "2025-03-18T07:19:26.762393Z",
     "start_time": "2025-03-18T07:19:26.738911Z"
    }
   },
   "cell_type": "code",
   "source": [
    "def generate_data(n_samples1=200, n_samples2=200, variance1=1, variance2=1, random_state=42):\n",
    "    np.random.seed(random_state)\n",
    "    cov1 = np.identity(2) * variance1\n",
    "    cov2 = np.identity(2) * variance2\n",
    "    cluster1 = np.random.multivariate_normal(mean=[-2, 2], cov=cov1, size=n_samples1)\n",
    "    cluster2 = np.random.multivariate_normal(mean=[2, -2], cov=cov2, size=n_samples2)\n",
    "    X = np.vstack((cluster1, cluster2))\n",
    "    return X"
   ],
   "id": "e3f659871a5a7b5b",
   "outputs": [],
   "execution_count": 3
  },
  {
   "metadata": {
    "ExecuteTime": {
     "end_time": "2025-03-18T07:19:28.548966Z",
     "start_time": "2025-03-18T07:19:28.529462Z"
    }
   },
   "cell_type": "code",
   "source": [
    "def compute_gauss(X, mu, Sigma):\n",
    "    n, d = X.shape\n",
    "    diff = X - mu\n",
    "    return 1 / np.sqrt(np.linalg.det(Sigma) * (2 * np.pi) ** d) * np.exp(-0.5 * np.sum(diff @ np.linalg.inv(Sigma) * diff, axis=1))"
   ],
   "id": "321cdb76226cd95a",
   "outputs": [],
   "execution_count": 4
  },
  {
   "metadata": {
    "ExecuteTime": {
     "end_time": "2025-03-18T07:24:35.572384Z",
     "start_time": "2025-03-18T07:24:35.562308Z"
    }
   },
   "cell_type": "code",
   "source": [
    "def apply_gmm(X, pi, mu, Sigma, max_iter=100):\n",
    "    n, d = X.shape\n",
    "    k = len(pi)\n",
    "    r = np.zeros((n, k))\n",
    "    coef, rvals = [], []\n",
    "    # store the initial values\n",
    "    coef.append({'pi': pi.copy(),'mu': mu.copy(), 'Sigma': Sigma.copy()})\n",
    "    rvals.append(np.ones((n, k)) / k)\n",
    "    \n",
    "    for i in range(max_iter):\n",
    "        # E-step: compute responsibilities\n",
    "        for j in range(k):\n",
    "            r[:, j] = compute_gauss(X, mu[j], Sigma[j])\n",
    "        r /= np.sum(r, axis=1, keepdims=True)\n",
    "        # M-step: update parameters\n",
    "        pi = np.mean(r, axis=0)\n",
    "        mu = np.dot(r.T, X) / np.sum(r, axis=0, keepdims=True)\n",
    "        Sigma = np.zeros((k, d, d))\n",
    "        for j in range(k):\n",
    "            diff = X - mu[j]\n",
    "            Sigma[j] = np.dot(r[:, j] * diff.T, diff) / np.sum(r[:, j])\n",
    "        # store the current values\n",
    "        coef.append({'pi': pi.copy(),'mu': mu.copy(), 'Sigma': Sigma.copy()})\n",
    "        rvals.append(r.copy())\n",
    "    return {'coef': coef, 'rvals': rvals}"
   ],
   "id": "3bc033bb4faa71b1",
   "outputs": [],
   "execution_count": 5
  },
  {
   "metadata": {
    "ExecuteTime": {
     "end_time": "2025-03-18T07:30:23.113686Z",
     "start_time": "2025-03-18T07:30:23.058430Z"
    }
   },
   "cell_type": "code",
   "source": [
    "X = generate_data(n_samples1=200, n_samples2=200, variance1=3, variance2=1)\n",
    "mu1, mu2 = np.array([0.1, 0]), np.array([0, 0])\n",
    "Sigma1, Sigma2 = np.identity(2) * 0.1, np.identity(2) * 0.1\n",
    "pi = [0.1, 0.9]\n",
    "mu, Sigma = [mu1, mu2], [Sigma1, Sigma2]\n",
    "res = apply_gmm(X, pi, mu, Sigma)"
   ],
   "id": "731ec9316c93a6a2",
   "outputs": [],
   "execution_count": 6
  },
  {
   "metadata": {},
   "cell_type": "code",
   "outputs": [],
   "execution_count": null,
   "source": [
    "hist_index = [0, 1, 5, 10, 25, 40]\n",
    "fig, ax = plt.subplots(2, 3)\n",
    "ax = ax.ravel()\n",
    "for ix, axi in zip(hist_index, ax):\n",
    "    "
   ],
   "id": "4875195625aa8fc5"
  }
 ],
 "metadata": {
  "kernelspec": {
   "display_name": "Python 3",
   "language": "python",
   "name": "python3"
  },
  "language_info": {
   "codemirror_mode": {
    "name": "ipython",
    "version": 2
   },
   "file_extension": ".py",
   "mimetype": "text/x-python",
   "name": "python",
   "nbconvert_exporter": "python",
   "pygments_lexer": "ipython2",
   "version": "2.7.6"
  }
 },
 "nbformat": 4,
 "nbformat_minor": 5
}
