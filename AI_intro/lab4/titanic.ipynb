{
 "cells": [
  {
   "metadata": {},
   "cell_type": "markdown",
   "source": "# 泰塔尼克号生还预测",
   "id": "6f246ed4b3cfc995"
  },
  {
   "cell_type": "code",
   "id": "initial_id",
   "metadata": {
    "collapsed": true,
    "ExecuteTime": {
     "end_time": "2024-12-12T01:39:01.183793Z",
     "start_time": "2024-12-12T01:39:01.164030Z"
    }
   },
   "source": [
    "import pandas as pd\n",
    "import numpy as np\n",
    "\n",
    "from sklearn.neighbors import KNeighborsClassifier, KNeighborsRegressor\n",
    "from sklearn.tree import DecisionTreeClassifier\n",
    "from sklearn.naive_bayes import GaussianNB\n",
    "from sklearn.linear_model import LogisticRegression\n",
    "from sklearn.svm import SVC"
   ],
   "outputs": [],
   "execution_count": 17
  },
  {
   "metadata": {
    "ExecuteTime": {
     "end_time": "2024-12-12T01:39:01.230043Z",
     "start_time": "2024-12-12T01:39:01.204960Z"
    }
   },
   "cell_type": "code",
   "source": [
    "'''\n",
    "PassengerId     编号\n",
    "Survived        是否存活 0-死亡 1-存活\n",
    "Pclass          舱位等级 1-一等舱 2-二等舱 3-三等舱\n",
    "Name            姓名\n",
    "Sex             性别\n",
    "Age             年龄\n",
    "SibSp           兄弟姐妹和配偶的数量\n",
    "Parch           父母和孩子的数量\n",
    "Ticket          船票编号\n",
    "Fare            票价\n",
    "Cabin           船舱号\n",
    "Embarked        登船港口\n",
    "'''\n",
    "\n",
    "# Load the dataset\n",
    "train_df = pd.read_csv('data/train.csv')\n",
    "test_df = pd.read_csv('data/test.csv')"
   ],
   "id": "5625e96cdeaeaf82",
   "outputs": [],
   "execution_count": 18
  },
  {
   "metadata": {
    "ExecuteTime": {
     "end_time": "2024-12-12T01:39:01.292061Z",
     "start_time": "2024-12-12T01:39:01.278805Z"
    }
   },
   "cell_type": "code",
   "source": [
    "print(train_df.isnull().sum())\n",
    "print()\n",
    "print(test_df.isnull().sum())"
   ],
   "id": "5e7ab70962aa4763",
   "outputs": [
    {
     "name": "stdout",
     "output_type": "stream",
     "text": [
      "PassengerId      0\n",
      "Survived         0\n",
      "Pclass           0\n",
      "Name             0\n",
      "Sex              0\n",
      "Age            177\n",
      "SibSp            0\n",
      "Parch            0\n",
      "Ticket           0\n",
      "Fare             0\n",
      "Cabin          687\n",
      "Embarked         2\n",
      "dtype: int64\n",
      "\n",
      "PassengerId      0\n",
      "Pclass           0\n",
      "Name             0\n",
      "Sex              0\n",
      "Age             86\n",
      "SibSp            0\n",
      "Parch            0\n",
      "Ticket           0\n",
      "Fare             1\n",
      "Cabin          327\n",
      "Embarked         0\n",
      "dtype: int64\n"
     ]
    }
   ],
   "execution_count": 19
  },
  {
   "metadata": {},
   "cell_type": "markdown",
   "source": "## 缺失值处理",
   "id": "9fb7a526925fbfce"
  },
  {
   "metadata": {
    "ExecuteTime": {
     "end_time": "2024-12-12T01:39:01.386104Z",
     "start_time": "2024-12-12T01:39:01.368088Z"
    }
   },
   "cell_type": "code",
   "source": [
    "# 删除少量缺失值\n",
    "train_df = train_df.drop(train_df[train_df['Embarked'].isnull()].index)\n",
    "# 填充 Fare 缺失值\n",
    "test_df['Fare'] = test_df['Fare'].fillna(test_df['Fare'].mean())"
   ],
   "id": "efc6e95013b13b84",
   "outputs": [],
   "execution_count": 20
  },
  {
   "metadata": {
    "ExecuteTime": {
     "end_time": "2024-12-12T01:39:01.448225Z",
     "start_time": "2024-12-12T01:39:01.419324Z"
    }
   },
   "cell_type": "code",
   "source": [
    "# 处理年龄缺失值\n",
    "def loc_age(df):\n",
    "    age_df = df[['Age', 'Fare', 'Parch', 'SibSp', 'Pclass']]\n",
    "    age_train = age_df[age_df['Age'].notnull()].values\n",
    "    age_pred = age_df[age_df['Age'].isnull()].values\n",
    "    x = age_train[:, 1:]\n",
    "    y = age_train[:, 0]\n",
    "    \n",
    "    # KNN\n",
    "    regressor = KNeighborsRegressor(n_neighbors=3)\n",
    "    regressor.fit(x, y)\n",
    "    pred_age = regressor.predict(age_pred[:, 1:])\n",
    "    \n",
    "    df.loc[df['Age'].isnull(), 'Age'] = np.round(pred_age)\n",
    "\n",
    "\n",
    "loc_age(train_df)\n",
    "loc_age(test_df)"
   ],
   "id": "9e73e8798644ece4",
   "outputs": [],
   "execution_count": 21
  },
  {
   "metadata": {},
   "cell_type": "markdown",
   "source": "## 无关字段处理",
   "id": "348d8743b9a0cddc"
  },
  {
   "metadata": {
    "ExecuteTime": {
     "end_time": "2024-12-12T01:39:01.495262Z",
     "start_time": "2024-12-12T01:39:01.482727Z"
    }
   },
   "cell_type": "code",
   "source": [
    "# PassengerId、Name、Cabin、Ticket 可以丢弃\n",
    "train_df = train_df.drop(['PassengerId', 'Name', 'Cabin', 'Ticket'], axis=1)\n",
    "test_df = test_df.drop(['Name', 'Cabin', 'Ticket'], axis=1)     # 为了提交结果，没有丢弃 PassengerId"
   ],
   "id": "ccf72ac66ab271f3",
   "outputs": [],
   "execution_count": 22
  },
  {
   "metadata": {
    "ExecuteTime": {
     "end_time": "2024-12-12T01:39:01.543009Z",
     "start_time": "2024-12-12T01:39:01.533422Z"
    }
   },
   "cell_type": "code",
   "source": [
    "print(train_df.isnull().sum())\n",
    "print()\n",
    "print(test_df.isnull().sum())"
   ],
   "id": "bb252e175fff953f",
   "outputs": [
    {
     "name": "stdout",
     "output_type": "stream",
     "text": [
      "Survived    0\n",
      "Pclass      0\n",
      "Sex         0\n",
      "Age         0\n",
      "SibSp       0\n",
      "Parch       0\n",
      "Fare        0\n",
      "Embarked    0\n",
      "dtype: int64\n",
      "\n",
      "PassengerId    0\n",
      "Pclass         0\n",
      "Sex            0\n",
      "Age            0\n",
      "SibSp          0\n",
      "Parch          0\n",
      "Fare           0\n",
      "Embarked       0\n",
      "dtype: int64\n"
     ]
    }
   ],
   "execution_count": 23
  },
  {
   "metadata": {},
   "cell_type": "markdown",
   "source": "## 数据预处理",
   "id": "1426fa4ba645981e"
  },
  {
   "metadata": {
    "ExecuteTime": {
     "end_time": "2024-12-12T01:39:01.684166Z",
     "start_time": "2024-12-12T01:39:01.649698Z"
    }
   },
   "cell_type": "code",
   "source": [
    "# 年龄离散化\n",
    "train_df['Age'] = pd.cut(train_df['Age'], 5, labels=[0, 1, 2, 3, 4])\n",
    "test_df['Age'] = pd.cut(test_df['Age'], 5, labels=[0, 1, 2, 3, 4])\n",
    "\n",
    "# 票价离散化\n",
    "train_df['Fare'] = pd.qcut(train_df['Fare'], 4, labels=[0, 1, 2, 3])\n",
    "test_df['Fare'] = pd.qcut(test_df['Fare'], 4, labels=[0, 1, 2, 3])\n",
    "\n",
    "# 性别编码\n",
    "train_df['Sex'] = train_df['Sex'].map({'male': 0, 'female': 1})\n",
    "test_df['Sex'] = test_df['Sex'].map({'male': 0, 'female': 1})\n",
    "\n",
    "# Embarked 编码\n",
    "train_df['Embarked'] = train_df['Embarked'].map({'S': 0, 'C': 1, 'Q': 2})\n",
    "test_df['Embarked'] = test_df['Embarked'].map({'S': 0, 'C': 1, 'Q': 2})\n",
    "\n",
    "# Parch + SibSp > 0 --> 1\n",
    "train_df['IsAlone'] = (train_df['Parch'] + train_df['SibSp'] == 0).astype(int)\n",
    "train_df = train_df.drop(['Parch', 'SibSp'], axis=1)\n",
    "test_df['IsAlone'] = (test_df['Parch'] + test_df['SibSp'] == 0).astype(int)\n",
    "test_df = test_df.drop(['Parch', 'SibSp'], axis=1)"
   ],
   "id": "9381903a61aeb7b0",
   "outputs": [],
   "execution_count": 24
  },
  {
   "metadata": {
    "ExecuteTime": {
     "end_time": "2024-12-12T01:39:01.746331Z",
     "start_time": "2024-12-12T01:39:01.733814Z"
    }
   },
   "cell_type": "code",
   "source": "test_df.head()",
   "id": "aba7cdf7382abe0c",
   "outputs": [
    {
     "data": {
      "text/plain": [
       "   PassengerId  Pclass  Sex Age Fare  Embarked  IsAlone\n",
       "0          892       3    0   2    0         2        1\n",
       "1          893       3    1   3    0         0        0\n",
       "2          894       2    0   4    1         2        1\n",
       "3          895       3    0   1    1         0        1\n",
       "4          896       3    1   1    1         0        0"
      ],
      "text/html": [
       "<div>\n",
       "<style scoped>\n",
       "    .dataframe tbody tr th:only-of-type {\n",
       "        vertical-align: middle;\n",
       "    }\n",
       "\n",
       "    .dataframe tbody tr th {\n",
       "        vertical-align: top;\n",
       "    }\n",
       "\n",
       "    .dataframe thead th {\n",
       "        text-align: right;\n",
       "    }\n",
       "</style>\n",
       "<table border=\"1\" class=\"dataframe\">\n",
       "  <thead>\n",
       "    <tr style=\"text-align: right;\">\n",
       "      <th></th>\n",
       "      <th>PassengerId</th>\n",
       "      <th>Pclass</th>\n",
       "      <th>Sex</th>\n",
       "      <th>Age</th>\n",
       "      <th>Fare</th>\n",
       "      <th>Embarked</th>\n",
       "      <th>IsAlone</th>\n",
       "    </tr>\n",
       "  </thead>\n",
       "  <tbody>\n",
       "    <tr>\n",
       "      <th>0</th>\n",
       "      <td>892</td>\n",
       "      <td>3</td>\n",
       "      <td>0</td>\n",
       "      <td>2</td>\n",
       "      <td>0</td>\n",
       "      <td>2</td>\n",
       "      <td>1</td>\n",
       "    </tr>\n",
       "    <tr>\n",
       "      <th>1</th>\n",
       "      <td>893</td>\n",
       "      <td>3</td>\n",
       "      <td>1</td>\n",
       "      <td>3</td>\n",
       "      <td>0</td>\n",
       "      <td>0</td>\n",
       "      <td>0</td>\n",
       "    </tr>\n",
       "    <tr>\n",
       "      <th>2</th>\n",
       "      <td>894</td>\n",
       "      <td>2</td>\n",
       "      <td>0</td>\n",
       "      <td>4</td>\n",
       "      <td>1</td>\n",
       "      <td>2</td>\n",
       "      <td>1</td>\n",
       "    </tr>\n",
       "    <tr>\n",
       "      <th>3</th>\n",
       "      <td>895</td>\n",
       "      <td>3</td>\n",
       "      <td>0</td>\n",
       "      <td>1</td>\n",
       "      <td>1</td>\n",
       "      <td>0</td>\n",
       "      <td>1</td>\n",
       "    </tr>\n",
       "    <tr>\n",
       "      <th>4</th>\n",
       "      <td>896</td>\n",
       "      <td>3</td>\n",
       "      <td>1</td>\n",
       "      <td>1</td>\n",
       "      <td>1</td>\n",
       "      <td>0</td>\n",
       "      <td>0</td>\n",
       "    </tr>\n",
       "  </tbody>\n",
       "</table>\n",
       "</div>"
      ]
     },
     "execution_count": 25,
     "metadata": {},
     "output_type": "execute_result"
    }
   ],
   "execution_count": 25
  },
  {
   "metadata": {},
   "cell_type": "markdown",
   "source": "## 模型训练及评估",
   "id": "8d8d004f26e2a441"
  },
  {
   "metadata": {
    "ExecuteTime": {
     "end_time": "2024-12-12T01:39:01.840543Z",
     "start_time": "2024-12-12T01:39:01.827019Z"
    }
   },
   "cell_type": "code",
   "source": [
    "x_train = train_df.drop('Survived', axis=1)\n",
    "y_train = train_df['Survived']\n",
    "x_test = test_df.drop('PassengerId', axis=1).copy()"
   ],
   "id": "33b88010715243b9",
   "outputs": [],
   "execution_count": 26
  },
  {
   "metadata": {
    "ExecuteTime": {
     "end_time": "2024-12-12T01:39:02.011655Z",
     "start_time": "2024-12-12T01:39:01.935778Z"
    }
   },
   "cell_type": "code",
   "source": [
    "# KNN\n",
    "knn = KNeighborsClassifier(n_neighbors=3)\n",
    "knn.fit(x_train, y_train)\n",
    "y_pred_knn = knn.predict(x_test)\n",
    "accuracy_knn = knn.score(x_train, y_train)\n",
    "print(accuracy_knn)"
   ],
   "id": "67baaf0747d637cd",
   "outputs": [
    {
     "name": "stdout",
     "output_type": "stream",
     "text": [
      "0.8481439820022497\n"
     ]
    }
   ],
   "execution_count": 27
  },
  {
   "metadata": {
    "ExecuteTime": {
     "end_time": "2024-12-12T01:39:02.073875Z",
     "start_time": "2024-12-12T01:39:02.059200Z"
    }
   },
   "cell_type": "code",
   "source": [
    "# Decision Tree\n",
    "dt = DecisionTreeClassifier()\n",
    "dt.fit(x_train, y_train)\n",
    "y_pred_dt = dt.predict(x_test)\n",
    "accuracy_dt = dt.score(x_train, y_train)\n",
    "print(accuracy_dt)"
   ],
   "id": "1168b47e1e67030c",
   "outputs": [
    {
     "name": "stdout",
     "output_type": "stream",
     "text": [
      "0.8627671541057368\n"
     ]
    }
   ],
   "execution_count": 28
  },
  {
   "metadata": {
    "ExecuteTime": {
     "end_time": "2024-12-12T01:39:02.213375Z",
     "start_time": "2024-12-12T01:39:02.199792Z"
    }
   },
   "cell_type": "code",
   "source": [
    "# Naive Bayes\n",
    "nb = GaussianNB()\n",
    "nb.fit(x_train, y_train)\n",
    "y_pred_nb = nb.predict(x_test)\n",
    "accuracy_nb = nb.score(x_train, y_train)\n",
    "print(accuracy_nb)"
   ],
   "id": "e8a4ab46696497ae",
   "outputs": [
    {
     "name": "stdout",
     "output_type": "stream",
     "text": [
      "0.7739032620922385\n"
     ]
    }
   ],
   "execution_count": 29
  },
  {
   "metadata": {
    "ExecuteTime": {
     "end_time": "2024-12-12T01:39:02.338741Z",
     "start_time": "2024-12-12T01:39:02.309712Z"
    }
   },
   "cell_type": "code",
   "source": [
    "# Logistic Regression\n",
    "lr = LogisticRegression()\n",
    "lr.fit(x_train, y_train)\n",
    "y_pred_lr = lr.predict(x_test)\n",
    "accuracy_lr = lr.score(x_train, y_train)\n",
    "print(accuracy_lr)"
   ],
   "id": "5619e0b5ee86d2d5",
   "outputs": [
    {
     "name": "stdout",
     "output_type": "stream",
     "text": [
      "0.7941507311586051\n"
     ]
    }
   ],
   "execution_count": 30
  },
  {
   "metadata": {
    "ExecuteTime": {
     "end_time": "2024-12-12T01:39:02.446700Z",
     "start_time": "2024-12-12T01:39:02.368306Z"
    }
   },
   "cell_type": "code",
   "source": [
    "# SVM\n",
    "svm = SVC()\n",
    "svm.fit(x_train, y_train)\n",
    "y_pred_svm = svm.predict(x_test)\n",
    "accuracy_svm = svm.score(x_train, y_train)\n",
    "print(accuracy_svm)"
   ],
   "id": "e3f7db737abfa070",
   "outputs": [
    {
     "name": "stdout",
     "output_type": "stream",
     "text": [
      "0.8200224971878515\n"
     ]
    }
   ],
   "execution_count": 31
  },
  {
   "metadata": {},
   "cell_type": "markdown",
   "source": "## 提交结果",
   "id": "4e429ec9c7090ab3"
  },
  {
   "metadata": {
    "ExecuteTime": {
     "end_time": "2024-12-12T01:39:02.524865Z",
     "start_time": "2024-12-12T01:39:02.511586Z"
    }
   },
   "cell_type": "code",
   "source": [
    "submission = pd.DataFrame({\n",
    "    'PassengerId': test_df['PassengerId'],\n",
    "    'Survived': y_pred_dt\n",
    "})\n",
    "submission.to_csv('data/submission.csv', index=False)"
   ],
   "id": "f7e0c597ac376e",
   "outputs": [],
   "execution_count": 32
  },
  {
   "metadata": {
    "ExecuteTime": {
     "end_time": "2024-12-12T01:39:02.540310Z",
     "start_time": "2024-12-12T01:39:02.533302Z"
    }
   },
   "cell_type": "code",
   "source": "",
   "id": "a126456be930609a",
   "outputs": [],
   "execution_count": null
  }
 ],
 "metadata": {
  "kernelspec": {
   "display_name": "Python 3",
   "language": "python",
   "name": "python3"
  },
  "language_info": {
   "codemirror_mode": {
    "name": "ipython",
    "version": 2
   },
   "file_extension": ".py",
   "mimetype": "text/x-python",
   "name": "python",
   "nbconvert_exporter": "python",
   "pygments_lexer": "ipython2",
   "version": "2.7.6"
  }
 },
 "nbformat": 4,
 "nbformat_minor": 5
}
