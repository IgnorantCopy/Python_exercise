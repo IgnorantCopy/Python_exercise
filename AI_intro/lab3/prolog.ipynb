{
 "cells": [
  {
   "metadata": {},
   "cell_type": "markdown",
   "source": "# Prolog",
   "id": "974a68aadaea4c51"
  },
  {
   "metadata": {
    "ExecuteTime": {
     "end_time": "2024-10-25T08:33:43.445023Z",
     "start_time": "2024-10-25T08:33:43.439419Z"
    }
   },
   "cell_type": "code",
   "source": "import pytholog as pl",
   "id": "b24d7fce02c1f56f",
   "outputs": [],
   "execution_count": 33
  },
  {
   "metadata": {},
   "cell_type": "markdown",
   "source": "## Intro",
   "id": "ba33dac604cb6dbe"
  },
  {
   "metadata": {
    "ExecuteTime": {
     "end_time": "2024-10-25T08:33:43.476549Z",
     "start_time": "2024-10-25T08:33:43.461311Z"
    }
   },
   "cell_type": "code",
   "source": [
    "knowledge = pl.KnowledgeBase(\"flavor\")\n",
    "knowledge([\n",
    "    \"likes(nor, sausage)\",          # likes(person, dish)\n",
    "    \"likes(melissa, pasta)\",\n",
    "    \"likes(dmitry, cookie)\",\n",
    "    \"likes(nikita, sausage)\",\n",
    "    \"likes(assel, limonade)\",\n",
    "    \n",
    "    \"food_type(gouda, cheese)\",     # food_type(dish, type)\n",
    "    \"food_type(ritz, cracker)\",\n",
    "    \"food_type(steak, meat)\",\n",
    "    \"food_type(sausage, meat)\",\n",
    "    \"food_type(limonade, juice)\",\n",
    "    \"food_type(cookie, dessert)\",\n",
    "    \n",
    "    \"flavor(sweet, dessert)\",       # flavor(flavor, type)\n",
    "    \"flavor(savory, meat)\",\n",
    "    \"flavor(savory, cheese)\",\n",
    "    \"flavor(sweet, juice)\",\n",
    "    \n",
    "    \"food_flavor(X, Y) :- food_type(X, Z), flavor(Y, Z)\",\n",
    "    \"dish_to_like(P, D) :- likes(P, L), food_type(L, T), flavor(F, T), food_flavor(D, F), neq(L, D)\",   # search an L differs from D that P likes\n",
    "])"
   ],
   "id": "cb9a40434e25bd06",
   "outputs": [],
   "execution_count": 34
  },
  {
   "metadata": {
    "ExecuteTime": {
     "end_time": "2024-10-25T08:33:43.508582Z",
     "start_time": "2024-10-25T08:33:43.495729Z"
    }
   },
   "cell_type": "code",
   "source": [
    "# do some queries\n",
    "print(knowledge.query(pl.Expr(\"likes(nor, sausage)\")))\n",
    "print(knowledge.query(pl.Expr(\"likes(nor, pasta)\")))\n",
    "print(knowledge.query(pl.Expr(\"food_flavor(What, sweet)\")))"
   ],
   "id": "dc52da96534e2ce8",
   "outputs": [
    {
     "name": "stdout",
     "output_type": "stream",
     "text": [
      "['Yes']\n",
      "['No']\n",
      "[{'What': 'cookie'}, {'What': 'limonade'}]\n"
     ]
    }
   ],
   "execution_count": 35
  },
  {
   "metadata": {},
   "cell_type": "markdown",
   "source": "## Facts",
   "id": "6442e0491f5be36c"
  },
  {
   "metadata": {
    "ExecuteTime": {
     "end_time": "2024-10-25T08:33:43.540026Z",
     "start_time": "2024-10-25T08:33:43.527781Z"
    }
   },
   "cell_type": "code",
   "source": [
    "'''\n",
    "事实的语法：\n",
    "    pred(args)\n",
    "    其中 pred 是谓词名，args 是参数列表。\n",
    "    参数可以是以下四种：\n",
    "    ① 整数\n",
    "    ② 原子：小写字母开头的字符串，或者用单引号括起来的字符串\n",
    "    ③ 变量：大写字母或 _ 开头的字符串\n",
    "    ④ 结构\n",
    "'''\n",
    "nani = pl.KnowledgeBase(\"nani\")\n",
    "nani([\n",
    "    \"room(kitchen)\",                # 房间\n",
    "    \"room(office)\",\n",
    "    \"room(hall)\",\n",
    "    \"room(cellar)\",\n",
    "    \"room('dining room')\",\n",
    "    \n",
    "    \"location(desk, office)\",       # 物品的位置\n",
    "    \"location(apple, kitchen)\",\n",
    "    \"location(flashlight, desk)\",\n",
    "    \"location('washing machine', cellar)\",\n",
    "    \"location(nani, 'washing machine')\",\n",
    "    \"location(broccoli, kitchen)\",\n",
    "    \"location(crackers, kitchen)\",\n",
    "    \"location(computer, office)\",\n",
    "    \n",
    "    \"door(office, hall)\",           # 房间之间的联系\n",
    "    \"door(hall, office)\",\n",
    "    \"door(hall, 'dining room')\",\n",
    "    \"door('dining room', hall)\",\n",
    "    \"door('dining room', kitchen)\",\n",
    "    \"door(kitchen, 'dining room')\",\n",
    "    \"door(kitchen, office)\",\n",
    "    \"door(office, kitchen)\",\n",
    "    \"door(kitchen, cellar)\",\n",
    "    \"door(cellar, kitchen)\",\n",
    "    \n",
    "    \"edible(apple)\",\n",
    "    \"edible(crackers)\",\n",
    "    \n",
    "    \"tastes_yucky(broccoli)\",\n",
    "    \n",
    "    \"turned_off(flashlight)\",\n",
    "    \"here(kitchen)\",                # 所在位置\n",
    "    \n",
    "    \"where_food(T, R) :- location(T, R), edible(T)\",\n",
    "])"
   ],
   "id": "e11cbee5f865074",
   "outputs": [],
   "execution_count": 36
  },
  {
   "metadata": {},
   "cell_type": "markdown",
   "source": "## Query",
   "id": "64ee06d6e31821e3"
  },
  {
   "metadata": {
    "ExecuteTime": {
     "end_time": "2024-10-25T08:33:43.571118Z",
     "start_time": "2024-10-25T08:33:43.558687Z"
    }
   },
   "cell_type": "code",
   "source": [
    "print(nani.query(pl.Expr(\"room(X)\")))\n",
    "print(nani.query(pl.Expr(\"location(Thing, kitchen)\")))"
   ],
   "id": "d87087eff85e939d",
   "outputs": [
    {
     "name": "stdout",
     "output_type": "stream",
     "text": [
      "['Yes', {'X': 'cellar'}, {'X': 'hall'}, {'X': 'kitchen'}, {'X': 'office'}]\n",
      "[{'Thing': 'apple'}, {'Thing': 'broccoli'}, {'Thing': 'crackers'}, {'Thing': 'nani'}]\n"
     ]
    }
   ],
   "execution_count": 37
  },
  {
   "metadata": {},
   "cell_type": "markdown",
   "source": "## Rules",
   "id": "f89f04c8f36d7637"
  },
  {
   "metadata": {
    "ExecuteTime": {
     "end_time": "2024-10-25T08:33:43.618276Z",
     "start_time": "2024-10-25T08:33:43.602715Z"
    }
   },
   "cell_type": "code",
   "source": [
    "'''\n",
    "规则的语法：\n",
    "    head :- body\n",
    "    其中：\n",
    "        head 同 Fact\n",
    "        body 是一系列条件，用逗号分隔。\n",
    "'''\n",
    "print(nani.query(pl.Expr(\"where_food(Thing, kitchen)\")))"
   ],
   "id": "75ff808c55a7c6e6",
   "outputs": [
    {
     "name": "stdout",
     "output_type": "stream",
     "text": [
      "[{'Thing': 'apple'}, {'Thing': 'crackers'}]\n"
     ]
    }
   ],
   "execution_count": 38
  },
  {
   "metadata": {},
   "cell_type": "markdown",
   "source": "## Arithmetic",
   "id": "d26531053eddca8c"
  },
  {
   "metadata": {
    "ExecuteTime": {
     "end_time": "2024-10-25T08:33:43.649672Z",
     "start_time": "2024-10-25T08:33:43.636381Z"
    }
   },
   "cell_type": "code",
   "source": [
    "arithmetic = pl.KnowledgeBase(\"arithmetic\")\n",
    "arithmetic([\n",
    "    \"c_to_f(C, F) :- F is C * 9/5 + 32\",\n",
    "    \"freezing(F) :- F <= 32\",\n",
    "])"
   ],
   "id": "5fbd24f448217528",
   "outputs": [],
   "execution_count": 39
  },
  {
   "metadata": {
    "ExecuteTime": {
     "end_time": "2024-10-25T08:33:43.758462Z",
     "start_time": "2024-10-25T08:33:43.745357Z"
    }
   },
   "cell_type": "code",
   "source": [
    "print(arithmetic.query(pl.Expr(\"c_to_f(100, X)\")))\n",
    "print(arithmetic.query(pl.Expr(\"freezing(15)\")))"
   ],
   "id": "78116631b3a9534b",
   "outputs": [
    {
     "name": "stdout",
     "output_type": "stream",
     "text": [
      "[{'100': 212.0}]\n",
      "['Yes']\n"
     ]
    }
   ],
   "execution_count": 40
  },
  {
   "metadata": {
    "ExecuteTime": {
     "end_time": "2024-10-25T08:33:43.852750Z",
     "start_time": "2024-10-25T08:33:43.841699Z"
    }
   },
   "cell_type": "code",
   "source": "",
   "id": "6f5c36122c8a97a",
   "outputs": [],
   "execution_count": null
  }
 ],
 "metadata": {
  "kernelspec": {
   "display_name": "Python 3",
   "language": "python",
   "name": "python3"
  },
  "language_info": {
   "codemirror_mode": {
    "name": "ipython",
    "version": 2
   },
   "file_extension": ".py",
   "mimetype": "text/x-python",
   "name": "python",
   "nbconvert_exporter": "python",
   "pygments_lexer": "ipython2",
   "version": "2.7.6"
  }
 },
 "nbformat": 4,
 "nbformat_minor": 5
}
